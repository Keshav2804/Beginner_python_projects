{
 "cells": [
  {
   "cell_type": "code",
   "execution_count": null,
   "id": "8f0cf4af-a26d-4f2a-ae19-099822c11d57",
   "metadata": {},
   "outputs": [],
   "source": [
    "#currency convertor\n",
    "from forex_python.converter import CurrencyRates, CurrencyCodes\n",
    "\n",
    "def convert_currency(amount, from_currency, to_currency):\n",
    "    c = CurrencyRates()\n",
    "    try:\n",
    "        converted_amount = c.convert(from_currency, to_currency, amount)\n",
    "        return converted_amount\n",
    "    except Exception as e:\n",
    "        print(f\"Error: {e}\")\n",
    "        return None\n",
    "\n",
    "def main():\n",
    "    c = CurrencyRates()\n",
    "    codes = CurrencyCodes()\n",
    "\n",
    "    try:\n",
    "        amount = float(input(\"Enter amount: \"))\n",
    "        from_currency = input(\"From Currency (e.g., USD): \").upper()\n",
    "        to_currency = input(\"To Currency (e.g., EUR): \").upper()\n",
    "        \n",
    "        converted_amount = c.convert(from_currency, to_currency, amount)\n",
    "        symbol = codes.get_symbol(to_currency)\n",
    "        \n",
    "        print(f\"{amount} {from_currency} is equal to {symbol} {converted_amount:.2f} {to_currency}\")\n",
    "    \n",
    "    except Exception as e:\n",
    "        print(f\"An error occurred: {e}\")\n",
    "\n",
    "if __name__ == \"__main__\":\n",
    "    main()\n"
   ]
  }
 ],
 "metadata": {
  "kernelspec": {
   "display_name": "Python 3 (ipykernel)",
   "language": "python",
   "name": "python3"
  },
  "language_info": {
   "codemirror_mode": {
    "name": "ipython",
    "version": 3
   },
   "file_extension": ".py",
   "mimetype": "text/x-python",
   "name": "python",
   "nbconvert_exporter": "python",
   "pygments_lexer": "ipython3",
   "version": "3.10.0"
  }
 },
 "nbformat": 4,
 "nbformat_minor": 5
}
