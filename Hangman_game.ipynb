{
 "cells": [
  {
   "cell_type": "code",
   "execution_count": 2,
   "id": "22f76b68-7959-488e-95c5-2fe2dcf7a597",
   "metadata": {},
   "outputs": [
    {
     "name": "stdout",
     "output_type": "stream",
     "text": [
      "Guess the word! HINT: word is a name of a fruit\n",
      "_ _ _ _ _ \n",
      "\n"
     ]
    },
    {
     "name": "stdin",
     "output_type": "stream",
     "text": [
      "Enter a letter to guess:  b\n"
     ]
    },
    {
     "name": "stdout",
     "output_type": "stream",
     "text": [
      "_ _ _ _ _ \n",
      "\n"
     ]
    },
    {
     "name": "stdin",
     "output_type": "stream",
     "text": [
      "Enter a letter to guess:  a\n"
     ]
    },
    {
     "name": "stdout",
     "output_type": "stream",
     "text": [
      "a _ _ _ _ \n",
      "\n"
     ]
    },
    {
     "name": "stdin",
     "output_type": "stream",
     "text": [
      "Enter a letter to guess:  p\n"
     ]
    },
    {
     "name": "stdout",
     "output_type": "stream",
     "text": [
      "a p p _ _ \n",
      "\n"
     ]
    },
    {
     "name": "stdin",
     "output_type": "stream",
     "text": [
      "Enter a letter to guess:  l\n"
     ]
    },
    {
     "name": "stdout",
     "output_type": "stream",
     "text": [
      "a p p l _ \n",
      "\n"
     ]
    },
    {
     "name": "stdin",
     "output_type": "stream",
     "text": [
      "Enter a letter to guess:  e\n"
     ]
    },
    {
     "name": "stdout",
     "output_type": "stream",
     "text": [
      "a p p l e \n",
      "The word is:  apple\n",
      "Congratulations, You won!\n"
     ]
    }
   ],
   "source": [
    "import random\n",
    "from collections import Counter\n",
    "\n",
    "Words = '''apple banana mango strawberry \n",
    "orange grape pineapple apricot lemon coconut watermelon \n",
    "cherry papaya berry peach lychee muskmelon'''\n",
    "\n",
    "Words = Words.split(' ')\n",
    "# randomly choose a secret word from our \"Words\" list.\n",
    "word = random.choice(Words)\n",
    "\n",
    "if __name__ == '__main__':\n",
    "    print('Guess the word! HINT: word is a name of a fruit')\n",
    "\n",
    "    for i in word:\n",
    "        # For printing the empty spaces for letters of the word\n",
    "        print('_', end=' ')\n",
    "    print()\n",
    "\n",
    "    playing = True\n",
    "    # list for storing the letters guessed by the player\n",
    "    letterGuessed = ''\n",
    "    chances = len(word) + 2\n",
    "    flag = 0\n",
    "    try:\n",
    "        while (chances != 0) and flag == 0:  # flag is updated when the word is correctly guessed\n",
    "            print()\n",
    "            chances -= 1\n",
    "\n",
    "            try:\n",
    "                guess = str(input('Enter a letter to guess: ')).lower()\n",
    "            except:\n",
    "                print('Enter only a letter!')\n",
    "                continue\n",
    "\n",
    "            # Validation of the guess\n",
    "            if not guess.isalpha():\n",
    "                print('Enter only a LETTER')\n",
    "                continue\n",
    "            elif len(guess) > 1:\n",
    "                print('Enter only a SINGLE letter')\n",
    "                continue\n",
    "            elif guess in letterGuessed:\n",
    "                print('You have already guessed that letter')\n",
    "                continue\n",
    "\n",
    "            # If letter is guessed correctly\n",
    "            if guess in word:\n",
    "                # k stores the number of times the guessed letter occurs in the word\n",
    "                k = word.count(guess)\n",
    "                for _ in range(k):\n",
    "                    letterGuessed += guess  # The guess letter is added as many times as it occurs\n",
    "\n",
    "            # Print the word\n",
    "            for char in word:\n",
    "                if char in letterGuessed:\n",
    "                    print(char, end=' ')\n",
    "                else:\n",
    "                    print('_', end=' ')\n",
    "            print()\n",
    "\n",
    "            # If user has guessed all the letters\n",
    "            if Counter(letterGuessed) == Counter(word):\n",
    "                print(\"The word is: \", word)\n",
    "                flag = 1\n",
    "                print('Congratulations, You won!')\n",
    "                break  # To break out of the while loop\n",
    "\n",
    "        # If user has used all of his chances\n",
    "        if chances <= 0 and (Counter(letterGuessed) != Counter(word)):\n",
    "            print()\n",
    "            print('You lost! Try again..')\n",
    "            print('The word was {}'.format(word))\n",
    "\n",
    "    except KeyboardInterrupt:\n",
    "        print()\n",
    "        print('Bye! Try again.')\n",
    "        exit()\n"
   ]
  },
  {
   "cell_type": "code",
   "execution_count": null,
   "id": "5f03659e-91c0-40f8-8059-79bcfe98babc",
   "metadata": {},
   "outputs": [],
   "source": []
  }
 ],
 "metadata": {
  "kernelspec": {
   "display_name": "Python 3 (ipykernel)",
   "language": "python",
   "name": "python3"
  },
  "language_info": {
   "codemirror_mode": {
    "name": "ipython",
    "version": 3
   },
   "file_extension": ".py",
   "mimetype": "text/x-python",
   "name": "python",
   "nbconvert_exporter": "python",
   "pygments_lexer": "ipython3",
   "version": "3.10.0"
  }
 },
 "nbformat": 4,
 "nbformat_minor": 5
}
