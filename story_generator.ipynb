{
 "cells": [
  {
   "cell_type": "code",
   "execution_count": null,
   "id": "bac1071c-91de-4f9d-b699-e2f60deb58dc",
   "metadata": {},
   "outputs": [],
   "source": [
    "import random\n",
    "\n",
    "# Define story elements\n",
    "characters = [\"a young wizard\", \"an old warrior\", \"a clever thief\", \"a brave knight\", \"a wise king\"]\n",
    "settings = [\"in a dark forest\", \"in a bustling city\", \"on a high mountain\", \"in a haunted castle\", \"on a distant planet\"]\n",
    "plots = [\n",
    "    \"who must find a lost artifact\",\n",
    "    \"who is trying to save the kingdom\",\n",
    "    \"who seeks revenge against an evil sorcerer\",\n",
    "    \"who is looking for a hidden treasure\",\n",
    "    \"who must solve a mysterious crime\"\n",
    "]\n",
    "\n",
    "# Generate a random story\n",
    "def generate_story():\n",
    "    character = random.choice(characters)\n",
    "    setting = random.choice(settings)\n",
    "    plot = random.choice(plots)\n",
    "    story = f\"Once upon a time, there was {character} {setting} {plot}.\"\n",
    "    return story\n",
    "\n",
    "# Generate and print a story\n",
    "print(generate_story())\n"
   ]
  }
 ],
 "metadata": {
  "kernelspec": {
   "display_name": "Python 3 (ipykernel)",
   "language": "python",
   "name": "python3"
  },
  "language_info": {
   "codemirror_mode": {
    "name": "ipython",
    "version": 3
   },
   "file_extension": ".py",
   "mimetype": "text/x-python",
   "name": "python",
   "nbconvert_exporter": "python",
   "pygments_lexer": "ipython3",
   "version": "3.10.0"
  }
 },
 "nbformat": 4,
 "nbformat_minor": 5
}
