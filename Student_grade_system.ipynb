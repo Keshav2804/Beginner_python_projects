{
 "cells": [
  {
   "cell_type": "code",
   "execution_count": 1,
   "id": "90a0d114-6728-466e-b7d2-9a0cea22f6af",
   "metadata": {},
   "outputs": [
    {
     "name": "stdout",
     "output_type": "stream",
     "text": [
      "\n",
      "Student Grade Management System\n",
      "1. Add student\n",
      "2. Calculate average grade\n",
      "3. Find highest and lowest grades\n",
      "4. Exit\n"
     ]
    },
    {
     "name": "stdin",
     "output_type": "stream",
     "text": [
      "Enter your choice:  1\n",
      "Enter student name:  Rajesh Kumar\n",
      "Enter student grade:  100\n"
     ]
    },
    {
     "name": "stdout",
     "output_type": "stream",
     "text": [
      "Student Rajesh Kumar with grade 100.0 added.\n",
      "\n",
      "Student Grade Management System\n",
      "1. Add student\n",
      "2. Calculate average grade\n",
      "3. Find highest and lowest grades\n",
      "4. Exit\n"
     ]
    },
    {
     "name": "stdin",
     "output_type": "stream",
     "text": [
      "Enter your choice:  2\n"
     ]
    },
    {
     "name": "stdout",
     "output_type": "stream",
     "text": [
      "The average grade is: 100.00\n",
      "\n",
      "Student Grade Management System\n",
      "1. Add student\n",
      "2. Calculate average grade\n",
      "3. Find highest and lowest grades\n",
      "4. Exit\n"
     ]
    },
    {
     "name": "stdin",
     "output_type": "stream",
     "text": [
      "Enter your choice:  4\n"
     ]
    }
   ],
   "source": [
    "# Student Grade system\n",
    "# Function to add a student and their grade\n",
    "def add_student(students, name, grade):\n",
    "    students[name] = grade\n",
    "\n",
    "# Function to calculate the average grade\n",
    "def calculate_average(students):\n",
    "    if len(students) == 0:\n",
    "        return 0\n",
    "    total = sum(students.values())\n",
    "    average = total / len(students)\n",
    "    return average\n",
    "\n",
    "# Function to determine the highest and lowest grades\n",
    "def find_highest_lowest(students):\n",
    "    if len(students) == 0:\n",
    "        return None, None\n",
    "    highest = max(students.values())\n",
    "    lowest = min(students.values())\n",
    "    return highest, lowest\n",
    "\n",
    "# Function to determine grade category\n",
    "def grade_category(grade):\n",
    "    if grade >= 90:\n",
    "        return 'A'\n",
    "    elif grade >= 80:\n",
    "        return 'B'\n",
    "    elif grade >= 70:\n",
    "        return 'C'\n",
    "    elif grade >= 60:\n",
    "        return 'D'\n",
    "    else:\n",
    "        return 'F'\n",
    "\n",
    "# Main program\n",
    "def main():\n",
    "    students = {}\n",
    "    \n",
    "    while True:\n",
    "        print(\"\\nStudent Grade Management System\")\n",
    "        print(\"1. Add student\")\n",
    "        print(\"2. Calculate average grade\")\n",
    "        print(\"3. Find highest and lowest grades\")\n",
    "        print(\"4. Exit\")\n",
    "        \n",
    "        choice = input(\"Enter your choice: \")\n",
    "        \n",
    "        if choice == '1':\n",
    "            name = input(\"Enter student name: \")\n",
    "            while True:\n",
    "                try:\n",
    "                    grade = float(input(\"Enter student grade: \"))\n",
    "                    if 0 <= grade <= 100:\n",
    "                        break\n",
    "                    else:\n",
    "                        print(\"Grade must be between 0 and 100.\")\n",
    "                except ValueError:\n",
    "                    print(\"Please enter a valid grade.\")\n",
    "            add_student(students, name, grade)\n",
    "            print(f\"Student {name} with grade {grade} added.\")\n",
    "        \n",
    "        elif choice == '2':\n",
    "            average = calculate_average(students)\n",
    "            print(f\"The average grade is: {average:.2f}\")\n",
    "        \n",
    "        elif choice == '3':\n",
    "            highest, lowest = find_highest_lowest(students)\n",
    "            if highest is None and lowest is None:\n",
    "                print(\"No students in the system.\")\n",
    "            else:\n",
    "                print(f\"The highest grade is: {highest}\")\n",
    "                print(f\"The lowest grade is: {lowest}\")\n",
    "        \n",
    "        elif choice == '4':\n",
    "            break\n",
    "        \n",
    "        else:\n",
    "            print(\"Invalid choice, please try again.\")\n",
    "\n",
    "# Run the main program\n",
    "if __name__ == \"__main__\":\n",
    "    main()\n"
   ]
  },
  {
   "cell_type": "code",
   "execution_count": null,
   "id": "1bb4d429-c39d-4109-9d66-b0951b57ed96",
   "metadata": {},
   "outputs": [],
   "source": []
  }
 ],
 "metadata": {
  "kernelspec": {
   "display_name": "Python 3 (ipykernel)",
   "language": "python",
   "name": "python3"
  },
  "language_info": {
   "codemirror_mode": {
    "name": "ipython",
    "version": 3
   },
   "file_extension": ".py",
   "mimetype": "text/x-python",
   "name": "python",
   "nbconvert_exporter": "python",
   "pygments_lexer": "ipython3",
   "version": "3.10.0"
  }
 },
 "nbformat": 4,
 "nbformat_minor": 5
}
