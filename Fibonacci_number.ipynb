{
 "cells": [
  {
   "cell_type": "code",
   "execution_count": null,
   "id": "3e7b9cfb-a47a-49ce-95a2-4480ed30d5ea",
   "metadata": {},
   "outputs": [],
   "source": [
    "def is_fibonacci(n):\n",
    "    # Handle edge cases\n",
    "    if n < 0:\n",
    "        return False\n",
    "    elif n == 0 or n == 1:\n",
    "        return True\n",
    "    \n",
    "    # Initialize the first two Fibonacci numbers\n",
    "    a, b = 0, 1\n",
    "    \n",
    "    # Generate Fibonacci numbers and check against n\n",
    "    while b < n:\n",
    "        a, b = b, a + b\n",
    "    \n",
    "    # Check if the generated Fibonacci number equals n\n",
    "    return b == n\n",
    "\n",
    "# Example usage\n",
    "number = int(input(\"Enter a number to check: \"))\n",
    "if is_fibonacci(number):\n",
    "    print(\"{} is a Fibonacci number.\".format(number))\n",
    "else:\n",
    "    print(\"{} is not a Fibonacci number.\".format(number))\n"
   ]
  }
 ],
 "metadata": {
  "kernelspec": {
   "display_name": "Python 3 (ipykernel)",
   "language": "python",
   "name": "python3"
  },
  "language_info": {
   "codemirror_mode": {
    "name": "ipython",
    "version": 3
   },
   "file_extension": ".py",
   "mimetype": "text/x-python",
   "name": "python",
   "nbconvert_exporter": "python",
   "pygments_lexer": "ipython3",
   "version": "3.10.0"
  }
 },
 "nbformat": 4,
 "nbformat_minor": 5
}
