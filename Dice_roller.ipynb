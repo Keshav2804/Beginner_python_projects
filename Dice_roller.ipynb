{
 "cells": [
  {
   "cell_type": "code",
   "execution_count": 2,
   "id": "cc865d9e-540c-4890-8db7-c7115dd58c50",
   "metadata": {},
   "outputs": [
    {
     "name": "stdout",
     "output_type": "stream",
     "text": [
      "Rolling a six-sided die: 2\n",
      "Rolling three six-sided dice: [3, 4, 2]\n"
     ]
    }
   ],
   "source": [
    "#Dice roller\n",
    "import random\n",
    "\n",
    "def roll_die(sides=6):\n",
    "    return random.randint(1, sides)\n",
    "\n",
    "def roll_multiple_dice(num_dice=1, sides=6):\n",
    "    return [roll_die(sides) for _ in range(num_dice)]\n",
    "\n",
    "# Example usage:\n",
    "print(\"Rolling a six-sided die:\", roll_die())\n",
    "print(\"Rolling three six-sided dice:\", roll_multiple_dice(3))\n"
   ]
  }
 ],
 "metadata": {
  "kernelspec": {
   "display_name": "Python 3 (ipykernel)",
   "language": "python",
   "name": "python3"
  },
  "language_info": {
   "codemirror_mode": {
    "name": "ipython",
    "version": 3
   },
   "file_extension": ".py",
   "mimetype": "text/x-python",
   "name": "python",
   "nbconvert_exporter": "python",
   "pygments_lexer": "ipython3",
   "version": "3.10.0"
  }
 },
 "nbformat": 4,
 "nbformat_minor": 5
}
