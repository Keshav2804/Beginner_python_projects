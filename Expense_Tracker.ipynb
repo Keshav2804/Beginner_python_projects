{
 "cells": [
  {
   "cell_type": "code",
   "execution_count": null,
   "id": "650af6ca-e104-47f0-b8ed-f5027d9f0cf7",
   "metadata": {},
   "outputs": [],
   "source": [
    "#Expense Tracker\n",
    "expenses = {}\n",
    "\n",
    "def add_expense(date, amount, category):\n",
    "    if date in expenses:\n",
    "        expenses[date].append((amount, category))\n",
    "    else:\n",
    "        expenses[date] = [(amount, category)]\n",
    "    print(\"Expense added.\")\n",
    "\n",
    "def view_expenses():\n",
    "    for date, exp_list in expenses.items():\n",
    "        print(f\"Date: {date}\")\n",
    "        for amount, category in exp_list:\n",
    "            print(f\" - {category}: ${amount}\")\n",
    "\n",
    "while True:\n",
    "    action = input(\"Choose action [add, view, quit]: \").lower()\n",
    "    if action == \"add\":\n",
    "        date = input(\"Enter date (YYYY-MM-DD): \")\n",
    "        amount = float(input(\"Enter amount: \"))\n",
    "        category = input(\"Enter category: \")\n",
    "        add_expense(date, amount, category)\n",
    "    elif action == \"view\":\n",
    "        view_expenses()\n",
    "    elif action == \"quit\":\n",
    "        break\n",
    "    else:\n",
    "        print(\"Invalid action.\")\n"
   ]
  }
 ],
 "metadata": {
  "kernelspec": {
   "display_name": "Python 3 (ipykernel)",
   "language": "python",
   "name": "python3"
  },
  "language_info": {
   "codemirror_mode": {
    "name": "ipython",
    "version": 3
   },
   "file_extension": ".py",
   "mimetype": "text/x-python",
   "name": "python",
   "nbconvert_exporter": "python",
   "pygments_lexer": "ipython3",
   "version": "3.10.0"
  }
 },
 "nbformat": 4,
 "nbformat_minor": 5
}
