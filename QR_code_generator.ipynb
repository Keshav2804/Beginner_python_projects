{
 "cells": [
  {
   "cell_type": "code",
   "execution_count": null,
   "id": "278b63e2-092f-418e-bd9a-9d8426fa7b76",
   "metadata": {},
   "outputs": [],
   "source": [
    "#QR code Generator\n",
    "# Import necessary libraries\n",
    "import qrcode\n",
    "from PIL import Image\n",
    "\n",
    "# Data to be encoded in the QR code\n",
    "data = \"https://www.example.com\"\n",
    "\n",
    "# Create a QRCode object with specified parameters\n",
    "qr = qrcode.QRCode(\n",
    "    version=1,\n",
    "    error_correction=qrcode.constants.ERROR_CORRECT_H,\n",
    "    box_size=10,\n",
    "    border=4,\n",
    ")\n",
    "\n",
    "# Add data to the QRCode object and make the QR code\n",
    "qr.add_data(data)\n",
    "qr.make(fit=True)\n",
    "\n",
    "# Create an image from the QR Code instance\n",
    "img = qr.make_image(fill='black', back_color='white')\n",
    "\n",
    "# Save the image to a file\n",
    "img.save(\"qrcode.png\")\n",
    "\n",
    "# Display the QR code image\n",
    "img.show()\n"
   ]
  }
 ],
 "metadata": {
  "kernelspec": {
   "display_name": "Python 3 (ipykernel)",
   "language": "python",
   "name": "python3"
  },
  "language_info": {
   "codemirror_mode": {
    "name": "ipython",
    "version": 3
   },
   "file_extension": ".py",
   "mimetype": "text/x-python",
   "name": "python",
   "nbconvert_exporter": "python",
   "pygments_lexer": "ipython3",
   "version": "3.10.0"
  }
 },
 "nbformat": 4,
 "nbformat_minor": 5
}
