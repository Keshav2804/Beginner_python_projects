{
 "cells": [
  {
   "cell_type": "code",
   "execution_count": 1,
   "id": "5463e9ac-91ff-471a-8aea-af2d7f396fa0",
   "metadata": {},
   "outputs": [
    {
     "name": "stdout",
     "output_type": "stream",
     "text": [
      "************************\n",
      "      Arithmetic Operations\n",
      "    *************************\n",
      "    1. Addition\n",
      "    2. Subtraction\n",
      "    3. Multiplication\n",
      "    4. Division\n",
      "    5. Floor Division\n",
      "    6. Modulo Division\n",
      "    7. Exponentiation\n",
      "    8. Exit\n"
     ]
    },
    {
     "name": "stdin",
     "output_type": "stream",
     "text": [
      "Enter corresponding digit (1-8) for the required operation:  3\n"
     ]
    },
    {
     "name": "stdout",
     "output_type": "stream",
     "text": [
      "**************************************************\n"
     ]
    },
    {
     "name": "stdin",
     "output_type": "stream",
     "text": [
      "Enter first value:  25\n",
      "Enter second value:  45\n"
     ]
    },
    {
     "name": "stdout",
     "output_type": "stream",
     "text": [
      "The multiplication of 25 and 45 is 1125\n",
      "**************************************************\n"
     ]
    }
   ],
   "source": [
    "#Program for Implementing Arithmetic Operations by using Menu driven with match case statement\n",
    "# Display the menu\n",
    "w = \"\"\"************************\n",
    "      Arithmetic Operations\n",
    "    *************************\n",
    "    1. Addition\n",
    "    2. Subtraction\n",
    "    3. Multiplication\n",
    "    4. Division\n",
    "    5. Floor Division\n",
    "    6. Modulo Division\n",
    "    7. Exponentiation\n",
    "    8. Exit\"\"\"\n",
    "print(w)\n",
    "\n",
    "# Prompt the user to enter their choice\n",
    "ch = int(input(\"Enter corresponding digit (1-8) for the required operation: \"))\n",
    "print(\"*\" * 50)\n",
    "\n",
    "# Match case statement to handle different operations based on user choice\n",
    "match ch:\n",
    "    case 1:\n",
    "        a = int(input(\"Enter first value: \"))\n",
    "        b = int(input(\"Enter second value: \"))\n",
    "        print(\"The addition of {} and {} is {}\".format(a, b, a + b))\n",
    "    case 2:\n",
    "        a = int(input(\"Enter first value: \"))\n",
    "        b = int(input(\"Enter second value: \"))\n",
    "        print(\"The subtraction of {} and {} is {}\".format(a, b, a - b))\n",
    "    case 3:\n",
    "        a = int(input(\"Enter first value: \"))\n",
    "        b = int(input(\"Enter second value: \"))\n",
    "        print(\"The multiplication of {} and {} is {}\".format(a, b, a * b))\n",
    "    case 4:\n",
    "        a = int(input(\"Enter first value: \"))\n",
    "        b = int(input(\"Enter second value: \"))\n",
    "        if b != 0:  # Check to avoid division by zero\n",
    "            print(\"The division of {} and {} is {}\".format(a, b, a / b))\n",
    "        else:\n",
    "            print(\"Division by zero is not allowed.\")\n",
    "    case 5:\n",
    "        a = int(input(\"Enter first value: \"))\n",
    "        b = int(input(\"Enter second value: \"))\n",
    "        if b != 0:  # Check to avoid division by zero\n",
    "            print(\"The floor division of {} and {} is {}\".format(a, b, a // b))\n",
    "        else:\n",
    "            print(\"Division by zero is not allowed.\")\n",
    "    case 6:\n",
    "        a = int(input(\"Enter first value: \"))\n",
    "        b = int(input(\"Enter second value: \"))\n",
    "        if b != 0:  # Check to avoid division by zero\n",
    "            print(\"The modulo division of {} and {} is {}\".format(a, b, a % b))\n",
    "        else:\n",
    "            print(\"Division by zero is not allowed.\")\n",
    "    case 7:\n",
    "        a = int(input(\"Enter first value: \"))\n",
    "        b = int(input(\"Enter second value: \"))\n",
    "        print(\"The power of {} raised to {} is {}\".format(a, b, a ** b))\n",
    "    case 8:\n",
    "        print(\"Thanks for using Arithmetic Calculator\")\n",
    "    case _:\n",
    "        print(\"Your input is wrong!!! Please try again\")\n",
    "\n",
    "print(\"*\" * 50)\n"
   ]
  },
  {
   "cell_type": "code",
   "execution_count": null,
   "id": "9cb39095-bf98-4a0b-b689-7ac62fa06afe",
   "metadata": {},
   "outputs": [],
   "source": []
  }
 ],
 "metadata": {
  "kernelspec": {
   "display_name": "Python 3 (ipykernel)",
   "language": "python",
   "name": "python3"
  },
  "language_info": {
   "codemirror_mode": {
    "name": "ipython",
    "version": 3
   },
   "file_extension": ".py",
   "mimetype": "text/x-python",
   "name": "python",
   "nbconvert_exporter": "python",
   "pygments_lexer": "ipython3",
   "version": "3.10.0"
  }
 },
 "nbformat": 4,
 "nbformat_minor": 5
}
