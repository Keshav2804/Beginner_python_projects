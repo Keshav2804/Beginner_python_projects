{
 "cells": [
  {
   "cell_type": "code",
   "execution_count": null,
   "id": "59e507ee-3d57-46b2-9b30-95e51b3137da",
   "metadata": {},
   "outputs": [
    {
     "name": "stdout",
     "output_type": "stream",
     "text": [
      "Welcome to the Number Lock System!\n",
      "You need to guess the 4-digit combination to unlock the system.\n",
      "Hints will be provided for each digit as follows:\n",
      "- 'Correct': The digit is correct and in the correct position.\n",
      "- 'Wrong position': The digit is correct but in the wrong position.\n",
      "- 'Incorrect': The digit is not in the combination.\n"
     ]
    },
    {
     "name": "stdin",
     "output_type": "stream",
     "text": [
      "Enter a 4-digit combination:  1234\n"
     ]
    },
    {
     "name": "stdout",
     "output_type": "stream",
     "text": [
      "Hints: ['Wrong position', 'Incorrect', 'Incorrect', 'Incorrect']\n",
      "Try again.\n"
     ]
    }
   ],
   "source": [
    "import random  # Importing random module at the beginning\n",
    "\n",
    "def number_lock_system():\n",
    "    # Define the correct combination outside the functions\n",
    "    correct_combination = [random.randint(0, 9) for _ in range(4)]\n",
    "\n",
    "    def get_user_input():\n",
    "        while True:\n",
    "            try:\n",
    "                user_input = input(\"Enter a 4-digit combination: \")\n",
    "                if len(user_input) != 4 or not user_input.isdigit():\n",
    "                    raise ValueError\n",
    "                return [int(digit) for digit in user_input]\n",
    "            except ValueError:\n",
    "                print(\"Invalid input. Please enter exactly 4 digits.\")\n",
    "\n",
    "    def check_combination(user_combination):\n",
    "        if user_combination == correct_combination:\n",
    "            return True\n",
    "        else:\n",
    "            hints = []\n",
    "            for i in range(4):\n",
    "                if user_combination[i] == correct_combination[i]:\n",
    "                    hints.append('Correct')\n",
    "                elif user_combination[i] in correct_combination:\n",
    "                    hints.append('Wrong position')\n",
    "                else:\n",
    "                    hints.append('Incorrect')\n",
    "            print(\"Hints:\", hints)\n",
    "            return False\n",
    "\n",
    "    print(\"Welcome to the Number Lock System!\")\n",
    "    print(\"You need to guess the 4-digit combination to unlock the system.\")\n",
    "    print(\"Hints will be provided for each digit as follows:\")\n",
    "    print(\"- 'Correct': The digit is correct and in the correct position.\")\n",
    "    print(\"- 'Wrong position': The digit is correct but in the wrong position.\")\n",
    "    print(\"- 'Incorrect': The digit is not in the combination.\")\n",
    "    \n",
    "    attempts = 0\n",
    "    while True:\n",
    "        user_combination = get_user_input()  # Call get_user_input to get user's input\n",
    "        attempts += 1\n",
    "        \n",
    "        if check_combination(user_combination):\n",
    "            print(\"Congratulations! You unlocked the system in {} attempts.\".format(attempts))\n",
    "            break\n",
    "        else:\n",
    "            print(\"Try again.\")\n",
    "\n",
    "# Call the function to start the number lock system\n",
    "number_lock_system()\n"
   ]
  },
  {
   "cell_type": "code",
   "execution_count": null,
   "id": "8fa075cd-82a3-4c27-90ef-3a89d0362763",
   "metadata": {},
   "outputs": [],
   "source": []
  }
 ],
 "metadata": {
  "kernelspec": {
   "display_name": "Python 3 (ipykernel)",
   "language": "python",
   "name": "python3"
  },
  "language_info": {
   "codemirror_mode": {
    "name": "ipython",
    "version": 3
   },
   "file_extension": ".py",
   "mimetype": "text/x-python",
   "name": "python",
   "nbconvert_exporter": "python",
   "pygments_lexer": "ipython3",
   "version": "3.10.0"
  }
 },
 "nbformat": 4,
 "nbformat_minor": 5
}
