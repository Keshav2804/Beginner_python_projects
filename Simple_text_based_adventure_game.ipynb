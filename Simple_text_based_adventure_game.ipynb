{
 "cells": [
  {
   "cell_type": "code",
   "execution_count": null,
   "id": "58f76191-8189-4e22-8a73-c9c87c47486f",
   "metadata": {},
   "outputs": [],
   "source": [
    "#simple_text_based_adventure_game\n",
    "def start_adventure():\n",
    "    print(\"You wake up in a dark room.\")\n",
    "    choice = input(\"Do you [1] light a candle or [2] go back to sleep? \")\n",
    "\n",
    "    if choice == '1':\n",
    "        print(\"You light the candle and see a door.\")\n",
    "        second_choice = input(\"Do you [1] open the door or [2] stay? \")\n",
    "        if second_choice == '1':\n",
    "            print(\"You open the door and find treasure! You win!\")\n",
    "        else:\n",
    "            print(\"You stay and eventually fall back asleep. Game over.\")\n",
    "    else:\n",
    "        print(\"You go back to sleep and never wake up again. Game over.\")\n",
    "\n",
    "start_adventure()\n"
   ]
  }
 ],
 "metadata": {
  "kernelspec": {
   "display_name": "Python 3 (ipykernel)",
   "language": "python",
   "name": "python3"
  },
  "language_info": {
   "codemirror_mode": {
    "name": "ipython",
    "version": 3
   },
   "file_extension": ".py",
   "mimetype": "text/x-python",
   "name": "python",
   "nbconvert_exporter": "python",
   "pygments_lexer": "ipython3",
   "version": "3.10.0"
  }
 },
 "nbformat": 4,
 "nbformat_minor": 5
}
