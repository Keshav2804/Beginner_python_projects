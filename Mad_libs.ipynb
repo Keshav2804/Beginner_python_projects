{
 "cells": [
  {
   "cell_type": "code",
   "execution_count": null,
   "id": "68b44ac9-f5cb-48c1-8df2-dcf13be5851a",
   "metadata": {},
   "outputs": [],
   "source": [
    "def mad_libs():\n",
    "    # Prompts for user inputs\n",
    "    noun = input(\"Enter a noun: \")\n",
    "    verb = input(\"Enter a verb: \")\n",
    "    adjective = input(\"Enter an adjective: \")\n",
    "    adverb = input(\"Enter an adverb: \")\n",
    "\n",
    "    # The story with placeholders\n",
    "    story = f\"Once upon a time, there was a {adjective} {noun} who loved to {verb} {adverb}.\"\n",
    "\n",
    "    # Print the completed story\n",
    "    print(story)\n",
    "\n",
    "# Run the Mad Libs game\n",
    "mad_libs()\n"
   ]
  }
 ],
 "metadata": {
  "kernelspec": {
   "display_name": "Python 3 (ipykernel)",
   "language": "python",
   "name": "python3"
  },
  "language_info": {
   "codemirror_mode": {
    "name": "ipython",
    "version": 3
   },
   "file_extension": ".py",
   "mimetype": "text/x-python",
   "name": "python",
   "nbconvert_exporter": "python",
   "pygments_lexer": "ipython3",
   "version": "3.10.0"
  }
 },
 "nbformat": 4,
 "nbformat_minor": 5
}
